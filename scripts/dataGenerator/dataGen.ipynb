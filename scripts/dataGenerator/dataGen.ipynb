{
 "cells": [
  {
   "cell_type": "markdown",
   "metadata": {},
   "source": [
    "# Data Generator \n",
    "\n",
    "En este archivo estara la script encargada de generar informacion y de meterla en SQL de forma sencilla\n"
   ]
  },
  {
   "cell_type": "code",
   "execution_count": 49,
   "metadata": {},
   "outputs": [],
   "source": [
    "import pymysql\n",
    "from random_username.generate import generate_username\n",
    "from random import randint\n",
    "from datetime import date"
   ]
  },
  {
   "cell_type": "code",
   "execution_count": 12,
   "metadata": {},
   "outputs": [],
   "source": [
    "# Conexion\n",
    "\n",
    "conn = pymysql.connect(host='localhost', port=3306, user='root', passwd='', db='deuzum')\n",
    "cut = conn.cursor()\n"
   ]
  },
  {
   "cell_type": "markdown",
   "metadata": {},
   "source": [
    "En la cell de abajo se encuentran las funciones con las que podemos crear la información que queremos añadir a la base de datos. Las funciones que hemos creado para failitar este apartado son:\n",
    "\n",
    "- *crear_info_usuarios_basica*: Crea cuentas de usuario aleatorias \n",
    "- *crear_info_cuenta_basica*: Crea cuentas de usuarios aleatorios\n",
    "- *crear_info_historial_basica*: Crea transacciones aleatorias entre usuarios\n",
    "\n",
    "\n",
    "El listado de parametros es el siguiente:\n",
    "\n",
    "\n",
    "\n",
    "\n",
    "| Parametro                | Descripción                                      |\n",
    "|--------------------------|--------------------------------------------------|\n",
    "| c_size                   | Cantidad de elementos que el programa va a crear |\n",
    "| min_[nombre de variable] | Valor mínimo que se le asignará a la variable    |\n",
    "| max_[nombre de variable] | Valor máximo que se le asignará a la variable    |\n"
   ]
  },
  {
   "cell_type": "code",
   "execution_count": 81,
   "metadata": {},
   "outputs": [],
   "source": [
    "def crear_info_usuarios_basica(c_size):\n",
    "    add_SQL = \"INSERT INTO `usuarios` (`user`, `pass`, `pregSeguridad`, `respuesta`) VALUES (%s, %s, '1', %s)\"\n",
    "    for i in range(0, c_size):\n",
    "        #user\n",
    "        tV_user, tV_pass, tV_res  = generate_username(3)\n",
    "        cut.execute(add_SQL,(tV_user,tV_pass,tV_res))\n",
    "        conn.commit()\n",
    "        \n",
    "def crear_info_cuentas_basica(c_size, min_num = 1, max_num = 1024, min_din = 1, max_din = 1024):\n",
    "    add_SQL = \"INSERT INTO `cuentas` (`user_id`, `numero`, `dinero`) VALUES (%s, %s, %s)\"\n",
    "    get_user_SQL = \"SELECT `id` FROM `usuarios` ORDER BY RAND() LIMIT 1\"\n",
    "    for i in range(0, c_size):\n",
    "        #user\n",
    "        cut.execute(get_user_SQL)\n",
    "        tV_user = cut.fetchone()\n",
    "        tV_num, tV_din = randint(min_num,max_num), randint(min_din,max_din)\n",
    "        \n",
    "        cut.execute(add_SQL,(tV_user,tV_num,tV_din))\n",
    "        conn.commit()\n",
    "\n",
    "def crear_info_historial_basica(c_size, min_din = 1, max_din = 1024):\n",
    "    add_SQL = \"INSERT INTO `historial` (`emisor_id`, `receptor`, `cantidad`, `fecha`) VALUES (%s,%s,%s,%s)\"\n",
    "    get_user_SQL_hist = \"SELECT `id` FROM `usuarios` ORDER BY RAND() LIMIT 2\"\n",
    "    todayS = (date.today()).strftime(\"%Y-%m-%d\")\n",
    "    for i in range(0, c_size):\n",
    "        #user\n",
    "        cut.execute(get_user_SQL_hist)\n",
    "        tV_emi, tV_rece = cut.fetchmany(2)\n",
    "        tV_din = randint(min_din,max_din)\n",
    "        \n",
    "        cut.execute(add_SQL,(tV_emi, tV_rece,tV_din,todayS))\n",
    "        conn.commit()\n",
    "\n"
   ]
  },
  {
   "cell_type": "code",
   "execution_count": 82,
   "metadata": {},
   "outputs": [],
   "source": [
    "#crear_info_usuarios_basica(10)\n",
    "#conn.close()\n",
    "crear_info_cuentas_basica(1)"
   ]
  },
  {
   "cell_type": "code",
   "execution_count": 47,
   "metadata": {},
   "outputs": [
    {
     "name": "stdout",
     "output_type": "stream",
     "text": [
      "17 at 0\n",
      "17\n"
     ]
    }
   ],
   "source": [
    "maxLen, maxLenp = 0,0\n",
    "for j in range(0,100):\n",
    "        \n",
    "    maxLen = max(maxLen, len(generate_username(1)[0]))\n",
    "    if(maxLen> maxLenp):\n",
    "        print(str(maxLen) + \" at \" + str(j))\n",
    "        maxLenp = maxLen\n",
    "print(str(maxLen))"
   ]
  },
  {
   "cell_type": "code",
   "execution_count": null,
   "metadata": {},
   "outputs": [],
   "source": []
  }
 ],
 "metadata": {
  "kernelspec": {
   "display_name": "Python 3",
   "language": "python",
   "name": "python3"
  },
  "language_info": {
   "codemirror_mode": {
    "name": "ipython",
    "version": 3
   },
   "file_extension": ".py",
   "mimetype": "text/x-python",
   "name": "python",
   "nbconvert_exporter": "python",
   "pygments_lexer": "ipython3",
   "version": "3.6.9"
  }
 },
 "nbformat": 4,
 "nbformat_minor": 2
}
